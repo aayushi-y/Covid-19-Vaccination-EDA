{
 "cells": [
  {
   "cell_type": "code",
   "execution_count": 1,
   "id": "709d82e0",
   "metadata": {
    "_cell_guid": "b1076dfc-b9ad-4769-8c92-a6c4dae69d19",
    "_uuid": "8f2839f25d086af736a60e9eeb907d3b93b6e0e5",
    "execution": {
     "iopub.execute_input": "2023-03-13T17:59:56.096699Z",
     "iopub.status.busy": "2023-03-13T17:59:56.096191Z",
     "iopub.status.idle": "2023-03-13T17:59:56.355543Z",
     "shell.execute_reply": "2023-03-13T17:59:56.354404Z"
    },
    "papermill": {
     "duration": 0.270723,
     "end_time": "2023-03-13T17:59:56.358577",
     "exception": false,
     "start_time": "2023-03-13T17:59:56.087854",
     "status": "completed"
    },
    "tags": []
   },
   "outputs": [
    {
     "data": {
      "text/html": [
       "<div>\n",
       "<style scoped>\n",
       "    .dataframe tbody tr th:only-of-type {\n",
       "        vertical-align: middle;\n",
       "    }\n",
       "\n",
       "    .dataframe tbody tr th {\n",
       "        vertical-align: top;\n",
       "    }\n",
       "\n",
       "    .dataframe thead th {\n",
       "        text-align: right;\n",
       "    }\n",
       "</style>\n",
       "<table border=\"1\" class=\"dataframe\">\n",
       "  <thead>\n",
       "    <tr style=\"text-align: right;\">\n",
       "      <th></th>\n",
       "      <th>country</th>\n",
       "      <th>iso_code</th>\n",
       "      <th>date</th>\n",
       "      <th>total_vaccinations</th>\n",
       "      <th>people_vaccinated</th>\n",
       "      <th>people_fully_vaccinated</th>\n",
       "      <th>daily_vaccinations_raw</th>\n",
       "      <th>daily_vaccinations</th>\n",
       "      <th>total_vaccinations_per_hundred</th>\n",
       "      <th>people_vaccinated_per_hundred</th>\n",
       "      <th>people_fully_vaccinated_per_hundred</th>\n",
       "      <th>daily_vaccinations_per_million</th>\n",
       "      <th>vaccines</th>\n",
       "      <th>source_name</th>\n",
       "      <th>source_website</th>\n",
       "    </tr>\n",
       "  </thead>\n",
       "  <tbody>\n",
       "    <tr>\n",
       "      <th>0</th>\n",
       "      <td>Afghanistan</td>\n",
       "      <td>AFG</td>\n",
       "      <td>2021-02-22</td>\n",
       "      <td>0.0</td>\n",
       "      <td>0.0</td>\n",
       "      <td>NaN</td>\n",
       "      <td>NaN</td>\n",
       "      <td>NaN</td>\n",
       "      <td>0.0</td>\n",
       "      <td>0.0</td>\n",
       "      <td>NaN</td>\n",
       "      <td>NaN</td>\n",
       "      <td>Johnson&amp;Johnson, Oxford/AstraZeneca, Pfizer/Bi...</td>\n",
       "      <td>World Health Organization</td>\n",
       "      <td>https://covid19.who.int/</td>\n",
       "    </tr>\n",
       "    <tr>\n",
       "      <th>1</th>\n",
       "      <td>Afghanistan</td>\n",
       "      <td>AFG</td>\n",
       "      <td>2021-02-23</td>\n",
       "      <td>NaN</td>\n",
       "      <td>NaN</td>\n",
       "      <td>NaN</td>\n",
       "      <td>NaN</td>\n",
       "      <td>1367.0</td>\n",
       "      <td>NaN</td>\n",
       "      <td>NaN</td>\n",
       "      <td>NaN</td>\n",
       "      <td>35.0</td>\n",
       "      <td>Johnson&amp;Johnson, Oxford/AstraZeneca, Pfizer/Bi...</td>\n",
       "      <td>World Health Organization</td>\n",
       "      <td>https://covid19.who.int/</td>\n",
       "    </tr>\n",
       "    <tr>\n",
       "      <th>2</th>\n",
       "      <td>Afghanistan</td>\n",
       "      <td>AFG</td>\n",
       "      <td>2021-02-24</td>\n",
       "      <td>NaN</td>\n",
       "      <td>NaN</td>\n",
       "      <td>NaN</td>\n",
       "      <td>NaN</td>\n",
       "      <td>1367.0</td>\n",
       "      <td>NaN</td>\n",
       "      <td>NaN</td>\n",
       "      <td>NaN</td>\n",
       "      <td>35.0</td>\n",
       "      <td>Johnson&amp;Johnson, Oxford/AstraZeneca, Pfizer/Bi...</td>\n",
       "      <td>World Health Organization</td>\n",
       "      <td>https://covid19.who.int/</td>\n",
       "    </tr>\n",
       "    <tr>\n",
       "      <th>3</th>\n",
       "      <td>Afghanistan</td>\n",
       "      <td>AFG</td>\n",
       "      <td>2021-02-25</td>\n",
       "      <td>NaN</td>\n",
       "      <td>NaN</td>\n",
       "      <td>NaN</td>\n",
       "      <td>NaN</td>\n",
       "      <td>1367.0</td>\n",
       "      <td>NaN</td>\n",
       "      <td>NaN</td>\n",
       "      <td>NaN</td>\n",
       "      <td>35.0</td>\n",
       "      <td>Johnson&amp;Johnson, Oxford/AstraZeneca, Pfizer/Bi...</td>\n",
       "      <td>World Health Organization</td>\n",
       "      <td>https://covid19.who.int/</td>\n",
       "    </tr>\n",
       "    <tr>\n",
       "      <th>4</th>\n",
       "      <td>Afghanistan</td>\n",
       "      <td>AFG</td>\n",
       "      <td>2021-02-26</td>\n",
       "      <td>NaN</td>\n",
       "      <td>NaN</td>\n",
       "      <td>NaN</td>\n",
       "      <td>NaN</td>\n",
       "      <td>1367.0</td>\n",
       "      <td>NaN</td>\n",
       "      <td>NaN</td>\n",
       "      <td>NaN</td>\n",
       "      <td>35.0</td>\n",
       "      <td>Johnson&amp;Johnson, Oxford/AstraZeneca, Pfizer/Bi...</td>\n",
       "      <td>World Health Organization</td>\n",
       "      <td>https://covid19.who.int/</td>\n",
       "    </tr>\n",
       "  </tbody>\n",
       "</table>\n",
       "</div>"
      ],
      "text/plain": [
       "       country iso_code        date  total_vaccinations  people_vaccinated  \\\n",
       "0  Afghanistan      AFG  2021-02-22                 0.0                0.0   \n",
       "1  Afghanistan      AFG  2021-02-23                 NaN                NaN   \n",
       "2  Afghanistan      AFG  2021-02-24                 NaN                NaN   \n",
       "3  Afghanistan      AFG  2021-02-25                 NaN                NaN   \n",
       "4  Afghanistan      AFG  2021-02-26                 NaN                NaN   \n",
       "\n",
       "   people_fully_vaccinated  daily_vaccinations_raw  daily_vaccinations  \\\n",
       "0                      NaN                     NaN                 NaN   \n",
       "1                      NaN                     NaN              1367.0   \n",
       "2                      NaN                     NaN              1367.0   \n",
       "3                      NaN                     NaN              1367.0   \n",
       "4                      NaN                     NaN              1367.0   \n",
       "\n",
       "   total_vaccinations_per_hundred  people_vaccinated_per_hundred  \\\n",
       "0                             0.0                            0.0   \n",
       "1                             NaN                            NaN   \n",
       "2                             NaN                            NaN   \n",
       "3                             NaN                            NaN   \n",
       "4                             NaN                            NaN   \n",
       "\n",
       "   people_fully_vaccinated_per_hundred  daily_vaccinations_per_million  \\\n",
       "0                                  NaN                             NaN   \n",
       "1                                  NaN                            35.0   \n",
       "2                                  NaN                            35.0   \n",
       "3                                  NaN                            35.0   \n",
       "4                                  NaN                            35.0   \n",
       "\n",
       "                                            vaccines  \\\n",
       "0  Johnson&Johnson, Oxford/AstraZeneca, Pfizer/Bi...   \n",
       "1  Johnson&Johnson, Oxford/AstraZeneca, Pfizer/Bi...   \n",
       "2  Johnson&Johnson, Oxford/AstraZeneca, Pfizer/Bi...   \n",
       "3  Johnson&Johnson, Oxford/AstraZeneca, Pfizer/Bi...   \n",
       "4  Johnson&Johnson, Oxford/AstraZeneca, Pfizer/Bi...   \n",
       "\n",
       "                 source_name            source_website  \n",
       "0  World Health Organization  https://covid19.who.int/  \n",
       "1  World Health Organization  https://covid19.who.int/  \n",
       "2  World Health Organization  https://covid19.who.int/  \n",
       "3  World Health Organization  https://covid19.who.int/  \n",
       "4  World Health Organization  https://covid19.who.int/  "
      ]
     },
     "execution_count": 1,
     "metadata": {},
     "output_type": "execute_result"
    }
   ],
   "source": [
    "import pandas as pd \n",
    "df = pd.read_csv(\"/kaggle/input/country-vaccinations/country_vaccinations.csv\")\n",
    "df.head()"
   ]
  },
  {
   "cell_type": "code",
   "execution_count": 2,
   "id": "65f9a1e7",
   "metadata": {
    "execution": {
     "iopub.execute_input": "2023-03-13T17:59:56.371716Z",
     "iopub.status.busy": "2023-03-13T17:59:56.371300Z",
     "iopub.status.idle": "2023-03-13T17:59:56.378158Z",
     "shell.execute_reply": "2023-03-13T17:59:56.377029Z"
    },
    "papermill": {
     "duration": 0.016238,
     "end_time": "2023-03-13T17:59:56.380635",
     "exception": false,
     "start_time": "2023-03-13T17:59:56.364397",
     "status": "completed"
    },
    "tags": []
   },
   "outputs": [
    {
     "data": {
      "text/plain": [
       "RangeIndex(start=0, stop=31240, step=1)"
      ]
     },
     "execution_count": 2,
     "metadata": {},
     "output_type": "execute_result"
    }
   ],
   "source": [
    "#to count the number of rows in the dataset\n",
    "df.index"
   ]
  },
  {
   "cell_type": "code",
   "execution_count": 3,
   "id": "4146bba1",
   "metadata": {
    "execution": {
     "iopub.execute_input": "2023-03-13T17:59:56.393493Z",
     "iopub.status.busy": "2023-03-13T17:59:56.393084Z",
     "iopub.status.idle": "2023-03-13T17:59:56.407754Z",
     "shell.execute_reply": "2023-03-13T17:59:56.406506Z"
    },
    "papermill": {
     "duration": 0.023992,
     "end_time": "2023-03-13T17:59:56.410245",
     "exception": false,
     "start_time": "2023-03-13T17:59:56.386253",
     "status": "completed"
    },
    "tags": []
   },
   "outputs": [],
   "source": [
    "#dataset columns to be deleted \n",
    "cols  = [\"iso_code\", \"source_name\", \"source_website\"]\n",
    "df_clean = df.drop(cols, axis = 1)"
   ]
  },
  {
   "cell_type": "code",
   "execution_count": 4,
   "id": "4f689b00",
   "metadata": {
    "execution": {
     "iopub.execute_input": "2023-03-13T17:59:56.423136Z",
     "iopub.status.busy": "2023-03-13T17:59:56.422669Z",
     "iopub.status.idle": "2023-03-13T17:59:56.437769Z",
     "shell.execute_reply": "2023-03-13T17:59:56.436625Z"
    },
    "papermill": {
     "duration": 0.024226,
     "end_time": "2023-03-13T17:59:56.440080",
     "exception": false,
     "start_time": "2023-03-13T17:59:56.415854",
     "status": "completed"
    },
    "tags": []
   },
   "outputs": [
    {
     "data": {
      "text/plain": [
       "country                                    0\n",
       "date                                       0\n",
       "total_vaccinations                     13789\n",
       "people_vaccinated                      14686\n",
       "people_fully_vaccinated                17445\n",
       "daily_vaccinations_raw                 16819\n",
       "daily_vaccinations                       292\n",
       "total_vaccinations_per_hundred         13789\n",
       "people_vaccinated_per_hundred          14686\n",
       "people_fully_vaccinated_per_hundred    17445\n",
       "daily_vaccinations_per_million           292\n",
       "vaccines                                   0\n",
       "dtype: int64"
      ]
     },
     "execution_count": 4,
     "metadata": {},
     "output_type": "execute_result"
    }
   ],
   "source": [
    "#to check the number of null values in the columns. \n",
    "df_clean.isnull().sum()"
   ]
  },
  {
   "cell_type": "code",
   "execution_count": 5,
   "id": "913019c0",
   "metadata": {
    "execution": {
     "iopub.execute_input": "2023-03-13T17:59:56.453823Z",
     "iopub.status.busy": "2023-03-13T17:59:56.453371Z",
     "iopub.status.idle": "2023-03-13T17:59:56.474514Z",
     "shell.execute_reply": "2023-03-13T17:59:56.473634Z"
    },
    "papermill": {
     "duration": 0.031163,
     "end_time": "2023-03-13T17:59:56.476861",
     "exception": false,
     "start_time": "2023-03-13T17:59:56.445698",
     "status": "completed"
    },
    "tags": []
   },
   "outputs": [
    {
     "data": {
      "text/plain": [
       "country                                0\n",
       "date                                   0\n",
       "total_vaccinations                     0\n",
       "people_vaccinated                      0\n",
       "people_fully_vaccinated                0\n",
       "daily_vaccinations_raw                 0\n",
       "daily_vaccinations                     0\n",
       "total_vaccinations_per_hundred         0\n",
       "people_vaccinated_per_hundred          0\n",
       "people_fully_vaccinated_per_hundred    0\n",
       "daily_vaccinations_per_million         0\n",
       "vaccines                               0\n",
       "dtype: int64"
      ]
     },
     "execution_count": 5,
     "metadata": {},
     "output_type": "execute_result"
    }
   ],
   "source": [
    "#to drop null values in a dataframe \n",
    "df_clean = df_clean.dropna(axis = 0, how = 'any')\n",
    "df_clean.isnull().sum()"
   ]
  },
  {
   "cell_type": "code",
   "execution_count": 6,
   "id": "28207d01",
   "metadata": {
    "execution": {
     "iopub.execute_input": "2023-03-13T17:59:56.490492Z",
     "iopub.status.busy": "2023-03-13T17:59:56.489906Z",
     "iopub.status.idle": "2023-03-13T17:59:56.497816Z",
     "shell.execute_reply": "2023-03-13T17:59:56.496632Z"
    },
    "papermill": {
     "duration": 0.017627,
     "end_time": "2023-03-13T17:59:56.500473",
     "exception": false,
     "start_time": "2023-03-13T17:59:56.482846",
     "status": "completed"
    },
    "tags": []
   },
   "outputs": [
    {
     "data": {
      "text/plain": [
       "country                                 object\n",
       "date                                    object\n",
       "total_vaccinations                     float64\n",
       "people_vaccinated                      float64\n",
       "people_fully_vaccinated                float64\n",
       "daily_vaccinations_raw                 float64\n",
       "daily_vaccinations                     float64\n",
       "total_vaccinations_per_hundred         float64\n",
       "people_vaccinated_per_hundred          float64\n",
       "people_fully_vaccinated_per_hundred    float64\n",
       "daily_vaccinations_per_million         float64\n",
       "vaccines                                object\n",
       "dtype: object"
      ]
     },
     "execution_count": 6,
     "metadata": {},
     "output_type": "execute_result"
    }
   ],
   "source": [
    "#to check the datatypes of the columns \n",
    "df_clean.dtypes"
   ]
  },
  {
   "cell_type": "code",
   "execution_count": 7,
   "id": "431a1ca8",
   "metadata": {
    "execution": {
     "iopub.execute_input": "2023-03-13T17:59:56.514320Z",
     "iopub.status.busy": "2023-03-13T17:59:56.513625Z",
     "iopub.status.idle": "2023-03-13T17:59:56.523930Z",
     "shell.execute_reply": "2023-03-13T17:59:56.522925Z"
    },
    "papermill": {
     "duration": 0.020422,
     "end_time": "2023-03-13T17:59:56.526691",
     "exception": false,
     "start_time": "2023-03-13T17:59:56.506269",
     "status": "completed"
    },
    "tags": []
   },
   "outputs": [],
   "source": [
    "wales = df_clean[df_clean[\"country\"] == 'Wales']\n",
    "israel = df_clean[df_clean[\"country\"] == 'Israel']"
   ]
  },
  {
   "cell_type": "code",
   "execution_count": 8,
   "id": "fb2479b1",
   "metadata": {
    "execution": {
     "iopub.execute_input": "2023-03-13T17:59:56.540212Z",
     "iopub.status.busy": "2023-03-13T17:59:56.539830Z",
     "iopub.status.idle": "2023-03-13T17:59:56.838923Z",
     "shell.execute_reply": "2023-03-13T17:59:56.837638Z"
    },
    "papermill": {
     "duration": 0.310894,
     "end_time": "2023-03-13T17:59:56.843504",
     "exception": false,
     "start_time": "2023-03-13T17:59:56.532610",
     "status": "completed"
    },
    "tags": []
   },
   "outputs": [
    {
     "data": {
      "text/plain": [
       "array([[<AxesSubplot:title={'center':'daily_vaccinations'}>]],\n",
       "      dtype=object)"
      ]
     },
     "execution_count": 8,
     "metadata": {},
     "output_type": "execute_result"
    },
    {
     "data": {
      "image/png": "[encoded data removed]",
      "text/plain": [
       "<Figure size 432x288 with 1 Axes>"
      ]
     },
     "metadata": {
      "needs_background": "light"
     },
     "output_type": "display_data"
    }
   ],
   "source": [
    "wales.head()\n",
    "wales.hist(column = \"daily_vaccinations\")"
   ]
  },
  {
   "cell_type": "code",
   "execution_count": 9,
   "id": "54be56a1",
   "metadata": {
    "execution": {
     "iopub.execute_input": "2023-03-13T17:59:56.861323Z",
     "iopub.status.busy": "2023-03-13T17:59:56.860913Z",
     "iopub.status.idle": "2023-03-13T17:59:57.113980Z",
     "shell.execute_reply": "2023-03-13T17:59:57.112531Z"
    },
    "papermill": {
     "duration": 0.263898,
     "end_time": "2023-03-13T17:59:57.116859",
     "exception": false,
     "start_time": "2023-03-13T17:59:56.852961",
     "status": "completed"
    },
    "tags": []
   },
   "outputs": [
    {
     "data": {
      "text/plain": [
       "array([[<AxesSubplot:title={'center':'daily_vaccinations'}>]],\n",
       "      dtype=object)"
      ]
     },
     "execution_count": 9,
     "metadata": {},
     "output_type": "execute_result"
    },
    {
     "data": {
      "image/png": "[encoded data removed]",
      "text/plain": [
       "<Figure size 432x288 with 1 Axes>"
      ]
     },
     "metadata": {
      "needs_background": "light"
     },
     "output_type": "display_data"
    }
   ],
   "source": [
    "israel.hist(column=\"daily_vaccinations\")"
   ]
  },
  {
   "cell_type": "markdown",
   "id": "510d258b",
   "metadata": {
    "papermill": {
     "duration": 0.006876,
     "end_time": "2023-03-13T17:59:57.130437",
     "exception": false,
     "start_time": "2023-03-13T17:59:57.123561",
     "status": "completed"
    },
    "tags": []
   },
   "source": [
    "Since, histogram for wales is skewed towards right, one can assume that wales is vaccinating a larger no of people daily as compared to Israel. However, taking a look at x-axis one can see the range for wales is 5k-35k and for that of Israel is 0-175k, which is much more than that of wales. Hence Israel can said to have larger daily vacccinations as compared to Wales"
   ]
  },
  {
   "cell_type": "code",
   "execution_count": 10,
   "id": "69723450",
   "metadata": {
    "execution": {
     "iopub.execute_input": "2023-03-13T17:59:57.146061Z",
     "iopub.status.busy": "2023-03-13T17:59:57.145635Z",
     "iopub.status.idle": "2023-03-13T17:59:57.344860Z",
     "shell.execute_reply": "2023-03-13T17:59:57.343549Z"
    },
    "papermill": {
     "duration": 0.210218,
     "end_time": "2023-03-13T17:59:57.347643",
     "exception": false,
     "start_time": "2023-03-13T17:59:57.137425",
     "status": "completed"
    },
    "tags": []
   },
   "outputs": [
    {
     "data": {
      "text/plain": [
       "<AxesSubplot:>"
      ]
     },
     "execution_count": 10,
     "metadata": {},
     "output_type": "execute_result"
    },
    {
     "data": {
      "image/png": "[encoded data removed]",
      "text/plain": [
       "<Figure size 432x288 with 1 Axes>"
      ]
     },
     "metadata": {
      "needs_background": "light"
     },
     "output_type": "display_data"
    }
   ],
   "source": [
    "wales.boxplot(column =[\"daily_vaccinations\"])"
   ]
  },
  {
   "cell_type": "code",
   "execution_count": 11,
   "id": "0e370800",
   "metadata": {
    "execution": {
     "iopub.execute_input": "2023-03-13T17:59:57.363614Z",
     "iopub.status.busy": "2023-03-13T17:59:57.363160Z",
     "iopub.status.idle": "2023-03-13T17:59:57.568257Z",
     "shell.execute_reply": "2023-03-13T17:59:57.567113Z"
    },
    "papermill": {
     "duration": 0.216145,
     "end_time": "2023-03-13T17:59:57.571022",
     "exception": false,
     "start_time": "2023-03-13T17:59:57.354877",
     "status": "completed"
    },
    "tags": []
   },
   "outputs": [
    {
     "data": {
      "text/plain": [
       "<AxesSubplot:>"
      ]
     },
     "execution_count": 11,
     "metadata": {},
     "output_type": "execute_result"
    },
    {
     "data": {
      "image/png": "[encoded data removed]",
      "text/plain": [
       "<Figure size 432x288 with 1 Axes>"
      ]
     },
     "metadata": {
      "needs_background": "light"
     },
     "output_type": "display_data"
    }
   ],
   "source": [
    "israel.boxplot(column = \"daily_vaccinations\")"
   ]
  },
  {
   "cell_type": "markdown",
   "id": "7ee1cef2",
   "metadata": {
    "papermill": {
     "duration": 0.006883,
     "end_time": "2023-03-13T17:59:57.585218",
     "exception": false,
     "start_time": "2023-03-13T17:59:57.578335",
     "status": "completed"
    },
    "tags": []
   },
   "source": [
    "The boxplot for Wales shows prescence of outliers which needs to be removed. "
   ]
  },
  {
   "cell_type": "code",
   "execution_count": 12,
   "id": "f9a2d6b9",
   "metadata": {
    "execution": {
     "iopub.execute_input": "2023-03-13T17:59:57.601542Z",
     "iopub.status.busy": "2023-03-13T17:59:57.601130Z",
     "iopub.status.idle": "2023-03-13T17:59:58.895454Z",
     "shell.execute_reply": "2023-03-13T17:59:58.894066Z"
    },
    "papermill": {
     "duration": 1.306113,
     "end_time": "2023-03-13T17:59:58.898596",
     "exception": false,
     "start_time": "2023-03-13T17:59:57.592483",
     "status": "completed"
    },
    "tags": []
   },
   "outputs": [
    {
     "name": "stdout",
     "output_type": "stream",
     "text": [
      "                                     total_vaccinations  people_vaccinated  \\\n",
      "total_vaccinations                             1.000000           0.985289   \n",
      "people_vaccinated                              0.985289           1.000000   \n",
      "people_fully_vaccinated                        0.937464           0.864453   \n",
      "daily_vaccinations_raw                         0.760066           0.812482   \n",
      "daily_vaccinations                             0.822020           0.875338   \n",
      "total_vaccinations_per_hundred                 0.173260           0.139610   \n",
      "people_vaccinated_per_hundred                  0.178618           0.152573   \n",
      "people_fully_vaccinated_per_hundred            0.167146           0.124020   \n",
      "daily_vaccinations_per_million                 0.056132           0.050887   \n",
      "\n",
      "                                     people_fully_vaccinated  \\\n",
      "total_vaccinations                                  0.937464   \n",
      "people_vaccinated                                   0.864453   \n",
      "people_fully_vaccinated                             1.000000   \n",
      "daily_vaccinations_raw                              0.581811   \n",
      "daily_vaccinations                                  0.636494   \n",
      "total_vaccinations_per_hundred                      0.221189   \n",
      "people_vaccinated_per_hundred                       0.211668   \n",
      "people_fully_vaccinated_per_hundred                 0.235139   \n",
      "daily_vaccinations_per_million                      0.059455   \n",
      "\n",
      "                                     daily_vaccinations_raw  \\\n",
      "total_vaccinations                                 0.760066   \n",
      "people_vaccinated                                  0.812482   \n",
      "people_fully_vaccinated                            0.581811   \n",
      "daily_vaccinations_raw                             1.000000   \n",
      "daily_vaccinations                                 0.938645   \n",
      "total_vaccinations_per_hundred                     0.032332   \n",
      "people_vaccinated_per_hundred                      0.051661   \n",
      "people_fully_vaccinated_per_hundred                0.009741   \n",
      "daily_vaccinations_per_million                     0.068837   \n",
      "\n",
      "                                     daily_vaccinations  \\\n",
      "total_vaccinations                             0.822020   \n",
      "people_vaccinated                              0.875338   \n",
      "people_fully_vaccinated                        0.636494   \n",
      "daily_vaccinations_raw                         0.938645   \n",
      "daily_vaccinations                             1.000000   \n",
      "total_vaccinations_per_hundred                 0.043431   \n",
      "people_vaccinated_per_hundred                  0.064075   \n",
      "people_fully_vaccinated_per_hundred            0.019054   \n",
      "daily_vaccinations_per_million                 0.079533   \n",
      "\n",
      "                                     total_vaccinations_per_hundred  \\\n",
      "total_vaccinations                                         0.173260   \n",
      "people_vaccinated                                          0.139610   \n",
      "people_fully_vaccinated                                    0.221189   \n",
      "daily_vaccinations_raw                                     0.032332   \n",
      "daily_vaccinations                                         0.043431   \n",
      "total_vaccinations_per_hundred                             1.000000   \n",
      "people_vaccinated_per_hundred                              0.982142   \n",
      "people_fully_vaccinated_per_hundred                        0.967687   \n",
      "daily_vaccinations_per_million                             0.625582   \n",
      "\n",
      "                                     people_vaccinated_per_hundred  \\\n",
      "total_vaccinations                                        0.178618   \n",
      "people_vaccinated                                         0.152573   \n",
      "people_fully_vaccinated                                   0.211668   \n",
      "daily_vaccinations_raw                                    0.051661   \n",
      "daily_vaccinations                                        0.064075   \n",
      "total_vaccinations_per_hundred                            0.982142   \n",
      "people_vaccinated_per_hundred                             1.000000   \n",
      "people_fully_vaccinated_per_hundred                       0.905923   \n",
      "daily_vaccinations_per_million                            0.686965   \n",
      "\n",
      "                                     people_fully_vaccinated_per_hundred  \\\n",
      "total_vaccinations                                              0.167146   \n",
      "people_vaccinated                                               0.124020   \n",
      "people_fully_vaccinated                                         0.235139   \n",
      "daily_vaccinations_raw                                          0.009741   \n",
      "daily_vaccinations                                              0.019054   \n",
      "total_vaccinations_per_hundred                                  0.967687   \n",
      "people_vaccinated_per_hundred                                   0.905923   \n",
      "people_fully_vaccinated_per_hundred                             1.000000   \n",
      "daily_vaccinations_per_million                                  0.505159   \n",
      "\n",
      "                                     daily_vaccinations_per_million  \n",
      "total_vaccinations                                         0.056132  \n",
      "people_vaccinated                                          0.050887  \n",
      "people_fully_vaccinated                                    0.059455  \n",
      "daily_vaccinations_raw                                     0.068837  \n",
      "daily_vaccinations                                         0.079533  \n",
      "total_vaccinations_per_hundred                             0.625582  \n",
      "people_vaccinated_per_hundred                              0.686965  \n",
      "people_fully_vaccinated_per_hundred                        0.505159  \n",
      "daily_vaccinations_per_million                             1.000000  \n"
     ]
    }
   ],
   "source": [
    "#to find coorelation between daily vaccinations of Wales and Israel. \n",
    "import matplotlib.pyplot as plt \n",
    "import seaborn as sns \n",
    "\n",
    "corr = df_clean.corr()\n",
    "print(corr)"
   ]
  },
  {
   "cell_type": "code",
   "execution_count": 13,
   "id": "ba7cec26",
   "metadata": {
    "execution": {
     "iopub.execute_input": "2023-03-13T17:59:58.915791Z",
     "iopub.status.busy": "2023-03-13T17:59:58.914688Z",
     "iopub.status.idle": "2023-03-13T17:59:59.580781Z",
     "shell.execute_reply": "2023-03-13T17:59:59.579584Z"
    },
    "papermill": {
     "duration": 0.677405,
     "end_time": "2023-03-13T17:59:59.583472",
     "exception": false,
     "start_time": "2023-03-13T17:59:58.906067",
     "status": "completed"
    },
    "tags": []
   },
   "outputs": [
    {
     "data": {
      "text/plain": [
       "<AxesSubplot:>"
      ]
     },
     "execution_count": 13,
     "metadata": {},
     "output_type": "execute_result"
    },
    {
     "data": {
      "image/png": "[encoded data removed]",
      "text/plain": [
       "<Figure size 432x288 with 2 Axes>"
      ]
     },
     "metadata": {
      "needs_background": "light"
     },
     "output_type": "display_data"
    }
   ],
   "source": [
    "sns.heatmap(corr[(corr >= 0.5) | (corr <= -0.4)], annot= True, linewidths = 0.1, vmin = -1, cmap = 'viridis')"
   ]
  },
  {
   "cell_type": "markdown",
   "id": "a5a0b6e3",
   "metadata": {
    "papermill": {
     "duration": 0.008117,
     "end_time": "2023-03-13T17:59:59.600505",
     "exception": false,
     "start_time": "2023-03-13T17:59:59.592388",
     "status": "completed"
    },
    "tags": []
   },
   "source": [
    "As can be seen from the coorelation matrix, number of people vaccinated and total number of vaccinations has a coorelation of 0.99, which is obvious. More the number of people vaccinated, the total count will be more. "
   ]
  },
  {
   "cell_type": "code",
   "execution_count": 14,
   "id": "aa99f0a9",
   "metadata": {
    "execution": {
     "iopub.execute_input": "2023-03-13T17:59:59.619233Z",
     "iopub.status.busy": "2023-03-13T17:59:59.618654Z",
     "iopub.status.idle": "2023-03-13T18:00:02.406546Z",
     "shell.execute_reply": "2023-03-13T18:00:02.404692Z"
    },
    "papermill": {
     "duration": 2.800449,
     "end_time": "2023-03-13T18:00:02.409373",
     "exception": false,
     "start_time": "2023-03-13T17:59:59.608924",
     "status": "completed"
    },
    "tags": []
   },
   "outputs": [
    {
     "data": {
      "text/html": [
       "        <script type=\"text/javascript\">\n",
       "        window.PlotlyConfig = {MathJaxConfig: 'local'};\n",
       "        if (window.MathJax && window.MathJax.Hub && window.MathJax.Hub.Config) {window.MathJax.Hub.Config({SVG: {font: \"STIX-Web\"}});}\n",
       "        if (typeof require !== 'undefined') {\n",
       "        require.undef(\"plotly\");\n",
       "        requirejs.config({\n",
       "            paths: {\n",
       "                'plotly': ['https://cdn.plot.ly/plotly-2.14.0.min']\n",
       "            }\n",
       "        });\n",
       "        require(['plotly'], function(Plotly) {\n",
       "            window._Plotly = Plotly;\n",
       "        });\n",
       "        }\n",
       "        </script>\n",
       "        "
      ]
     },
     "metadata": {},
     "output_type": "display_data"
    },
    {
     "data": {
      "text/html": [
       "<div>                            <div id=\"f46a48e0-aba2-4cee-be84-18fd62e667c7\" class=\"plotly-graph-div\" style=\"height:400px; width:3000px;\"></div>            <script type=\"text/javascript\">                require([\"plotly\"], function(Plotly) {                    window.PLOTLYENV=window.PLOTLYENV || {};                                    if (document.getElementById(\"f46a48e0-aba2-4cee-be84-18fd62e667c7\")) {                    Plotly.newPlot(                        \"f46a48e0-aba2-4cee-be84-18fd62e667c7\",                        [{\"alignmentgroup\":\"True\",\"hovertemplate\":\"x=%{x}<br>y=%{y}<extra></extra>\",\"legendgroup\":\"\",\"marker\":{\"color\":\"#636efa\",\"pattern\":{\"shape\":\"\"}},\"name\":\"\",\"offsetgroup\":\"\",\"orientation\":\"v\",\"showlegend\":false,\"textposition\":\"auto\",\"x\":[\"Afghanistan\",\"Albania\",\"Andorra\",\"Antigua and Barbuda\",\"Argentina\",\"Aruba\",\"Australia\",\"Austria\",\"Azerbaijan\",\"Bahrain\",\"Bangladesh\",\"Barbados\",\"Belgium\",\"Belize\",\"Bolivia\",\"Botswana\",\"Brazil\",\"Brunei\",\"Bulgaria\",\"Cambodia\",\"Canada\",\"Cape Verde\",\"Cayman Islands\",\"Chile\",\"China\",\"Colombia\",\"Croatia\",\"Cuba\",\"Curacao\",\"Cyprus\",\"Czechia\",\"Denmark\",\"Dominica\",\"Dominican Republic\",\"Ecuador\",\"Egypt\",\"El Salvador\",\"England\",\"Estonia\",\"Eswatini\",\"Faeroe Islands\",\"Finland\",\"France\",\"French Polynesia\",\"Gabon\",\"Georgia\",\"Germany\",\"Gibraltar\",\"Greece\",\"Greenland\",\"Grenada\",\"Guatemala\",\"Guinea\",\"Guyana\",\"Honduras\",\"Hong Kong\",\"Hungary\",\"Iceland\",\"India\",\"Indonesia\",\"Iran\",\"Ireland\",\"Isle of Man\",\"Israel\",\"Italy\",\"Japan\",\"Jordan\",\"Kazakhstan\",\"Kenya\",\"Laos\",\"Latvia\",\"Lebanon\",\"Liberia\",\"Liechtenstein\",\"Lithuania\",\"Luxembourg\",\"Macao\",\"Malawi\",\"Malaysia\",\"Maldives\",\"Malta\",\"Mauritania\",\"Mexico\",\"Moldova\",\"Mongolia\",\"Montenegro\",\"Morocco\",\"Namibia\",\"Nepal\",\"New Zealand\",\"Nigeria\",\"North Macedonia\",\"Northern Cyprus\",\"Northern Ireland\",\"Norway\",\"Oman\",\"Pakistan\",\"Palestine\",\"Panama\",\"Paraguay\",\"Peru\",\"Philippines\",\"Poland\",\"Portugal\",\"Qatar\",\"Romania\",\"Russia\",\"Rwanda\",\"Saint Kitts and Nevis\",\"Saint Lucia\",\"San Marino\",\"Saudi Arabia\",\"Scotland\",\"Senegal\",\"Serbia\",\"Seychelles\",\"Sierra Leone\",\"Singapore\",\"Slovakia\",\"Slovenia\",\"Somalia\",\"South Africa\",\"South Korea\",\"South Sudan\",\"Spain\",\"Sri Lanka\",\"Sudan\",\"Suriname\",\"Sweden\",\"Switzerland\",\"Taiwan\",\"Thailand\",\"Trinidad and Tobago\",\"Tunisia\",\"Turkey\",\"Uganda\",\"Ukraine\",\"United Arab Emirates\",\"United Kingdom\",\"United States\",\"Uruguay\",\"Vietnam\",\"Wales\",\"Zambia\",\"Zimbabwe\"],\"xaxis\":\"x\",\"y\":[1223618.0,36292044.0,15269.0,212770.0,1433194594.0,6941377.0,272144721.0,579376385.0,225200274.0,182500648.0,303872485.0,9365752.0,771554205.0,1166691.0,77968687.0,284676.0,5105921456.0,1875688.0,142656449.0,453654240.0,2544123216.0,124958.0,1311491.0,2099958781.0,845299000.0,714758208.0,123137660.0,224992507.0,11247764.0,19222244.0,595781190.0,156138081.0,52331.0,406050207.0,162963042.0,19522974.0,49551971.0,6476859878.0,78172579.0,99074.0,1116883.0,205378991.0,4047035218.0,16252.0,33591.0,7560617.0,5473728511.0,3216178.0,535309850.0,1184587.0,24336.0,46019897.0,10647764.0,1032978.0,2238982.0,251403230.0,422687666.0,7456224.0,21598996621.0,2336910415.0,2692536.0,105598228.0,5874682.0,1675067758.0,3812960782.0,2179142649.0,73609521.0,259343159.0,43948089.0,32328701.0,78861061.0,75596738.0,67437.0,2188138.0,176860940.0,16730078.0,18779508.0,6493925.0,425866241.0,39837183.0,55668308.0,228163.0,2752084298.0,28767521.0,145668333.0,15485702.0,1007778113.0,6440686.0,67953762.0,64358634.0,16108483.0,16890145.0,251399.0,197646297.0,316925872.0,1168766.0,43001199.0,29197420.0,76361537.0,35309284.0,458018840.0,243800892.0,1658534057.0,528652245.0,197420779.0,787024580.0,2981896932.0,646909.0,164633.0,1301953.0,843080.0,361583921.0,644950798.0,823610.0,148135048.0,824267.0,44347.0,31440434.0,287420996.0,118612978.0,702116.0,24321879.0,973376652.0,55915.0,1783102996.0,164393173.0,1161477.0,3723799.0,37004516.0,507292822.0,51764639.0,448677075.0,12878667.0,94479359.0,3839555707.0,1585560.0,131422848.0,181545557.0,7839957129.0,32611022491.0,278059247.0,118142794.0,400095657.0,3823612.0,86581296.0],\"yaxis\":\"y\",\"type\":\"bar\"}],                        {\"template\":{\"data\":{\"histogram2dcontour\":[{\"type\":\"histogram2dcontour\",\"colorbar\":{\"outlinewidth\":0,\"ticks\":\"\"},\"colorscale\":[[0.0,\"#0d0887\"],[0.1111111111111111,\"#46039f\"],[0.2222222222222222,\"#7201a8\"],[0.3333333333333333,\"#9c179e\"],[0.4444444444444444,\"#bd3786\"],[0.5555555555555556,\"#d8576b\"],[0.6666666666666666,\"#ed7953\"],[0.7777777777777778,\"#fb9f3a\"],[0.8888888888888888,\"#fdca26\"],[1.0,\"#f0f921\"]]}],\"choropleth\":[{\"type\":\"choropleth\",\"colorbar\":{\"outlinewidth\":0,\"ticks\":\"\"}}],\"histogram2d\":[{\"type\":\"histogram2d\",\"colorbar\":{\"outlinewidth\":0,\"ticks\":\"\"},\"colorscale\":[[0.0,\"#0d0887\"],[0.1111111111111111,\"#46039f\"],[0.2222222222222222,\"#7201a8\"],[0.3333333333333333,\"#9c179e\"],[0.4444444444444444,\"#bd3786\"],[0.5555555555555556,\"#d8576b\"],[0.6666666666666666,\"#ed7953\"],[0.7777777777777778,\"#fb9f3a\"],[0.8888888888888888,\"#fdca26\"],[1.0,\"#f0f921\"]]}],\"heatmap\":[{\"type\":\"heatmap\",\"colorbar\":{\"outlinewidth\":0,\"ticks\":\"\"},\"colorscale\":[[0.0,\"#0d0887\"],[0.1111111111111111,\"#46039f\"],[0.2222222222222222,\"#7201a8\"],[0.3333333333333333,\"#9c179e\"],[0.4444444444444444,\"#bd3786\"],[0.5555555555555556,\"#d8576b\"],[0.6666666666666666,\"#ed7953\"],[0.7777777777777778,\"#fb9f3a\"],[0.8888888888888888,\"#fdca26\"],[1.0,\"#f0f921\"]]}],\"heatmapgl\":[{\"type\":\"heatmapgl\",\"colorbar\":{\"outlinewidth\":0,\"ticks\":\"\"},\"colorscale\":[[0.0,\"#0d0887\"],[0.1111111111111111,\"#46039f\"],[0.2222222222222222,\"#7201a8\"],[0.3333333333333333,\"#9c179e\"],[0.4444444444444444,\"#bd3786\"],[0.5555555555555556,\"#d8576b\"],[0.6666666666666666,\"#ed7953\"],[0.7777777777777778,\"#fb9f3a\"],[0.8888888888888888,\"#fdca26\"],[1.0,\"#f0f921\"]]}],\"contourcarpet\":[{\"type\":\"contourcarpet\",\"colorbar\":{\"outlinewidth\":0,\"ticks\":\"\"}}],\"contour\":[{\"type\":\"contour\",\"colorbar\":{\"outlinewidth\":0,\"ticks\":\"\"},\"colorscale\":[[0.0,\"#0d0887\"],[0.1111111111111111,\"#46039f\"],[0.2222222222222222,\"#7201a8\"],[0.3333333333333333,\"#9c179e\"],[0.4444444444444444,\"#bd3786\"],[0.5555555555555556,\"#d8576b\"],[0.6666666666666666,\"#ed7953\"],[0.7777777777777778,\"#fb9f3a\"],[0.8888888888888888,\"#fdca26\"],[1.0,\"#f0f921\"]]}],\"surface\":[{\"type\":\"surface\",\"colorbar\":{\"outlinewidth\":0,\"ticks\":\"\"},\"colorscale\":[[0.0,\"#0d0887\"],[0.1111111111111111,\"#46039f\"],[0.2222222222222222,\"#7201a8\"],[0.3333333333333333,\"#9c179e\"],[0.4444444444444444,\"#bd3786\"],[0.5555555555555556,\"#d8576b\"],[0.6666666666666666,\"#ed7953\"],[0.7777777777777778,\"#fb9f3a\"],[0.8888888888888888,\"#fdca26\"],[1.0,\"#f0f921\"]]}],\"mesh3d\":[{\"type\":\"mesh3d\",\"colorbar\":{\"outlinewidth\":0,\"ticks\":\"\"}}],\"scatter\":[{\"fillpattern\":{\"fillmode\":\"overlay\",\"size\":10,\"solidity\":0.2},\"type\":\"scatter\"}],\"parcoords\":[{\"type\":\"parcoords\",\"line\":{\"colorbar\":{\"outlinewidth\":0,\"ticks\":\"\"}}}],\"scatterpolargl\":[{\"type\":\"scatterpolargl\",\"marker\":{\"colorbar\":{\"outlinewidth\":0,\"ticks\":\"\"}}}],\"bar\":[{\"error_x\":{\"color\":\"#2a3f5f\"},\"error_y\":{\"color\":\"#2a3f5f\"},\"marker\":{\"line\":{\"color\":\"#E5ECF6\",\"width\":0.5},\"pattern\":{\"fillmode\":\"overlay\",\"size\":10,\"solidity\":0.2}},\"type\":\"bar\"}],\"scattergeo\":[{\"type\":\"scattergeo\",\"marker\":{\"colorbar\":{\"outlinewidth\":0,\"ticks\":\"\"}}}],\"scatterpolar\":[{\"type\":\"scatterpolar\",\"marker\":{\"colorbar\":{\"outlinewidth\":0,\"ticks\":\"\"}}}],\"histogram\":[{\"marker\":{\"pattern\":{\"fillmode\":\"overlay\",\"size\":10,\"solidity\":0.2}},\"type\":\"histogram\"}],\"scattergl\":[{\"type\":\"scattergl\",\"marker\":{\"colorbar\":{\"outlinewidth\":0,\"ticks\":\"\"}}}],\"scatter3d\":[{\"type\":\"scatter3d\",\"line\":{\"colorbar\":{\"outlinewidth\":0,\"ticks\":\"\"}},\"marker\":{\"colorbar\":{\"outlinewidth\":0,\"ticks\":\"\"}}}],\"scattermapbox\":[{\"type\":\"scattermapbox\",\"marker\":{\"colorbar\":{\"outlinewidth\":0,\"ticks\":\"\"}}}],\"scatterternary\":[{\"type\":\"scatterternary\",\"marker\":{\"colorbar\":{\"outlinewidth\":0,\"ticks\":\"\"}}}],\"scattercarpet\":[{\"type\":\"scattercarpet\",\"marker\":{\"colorbar\":{\"outlinewidth\":0,\"ticks\":\"\"}}}],\"carpet\":[{\"aaxis\":{\"endlinecolor\":\"#2a3f5f\",\"gridcolor\":\"white\",\"linecolor\":\"white\",\"minorgridcolor\":\"white\",\"startlinecolor\":\"#2a3f5f\"},\"baxis\":{\"endlinecolor\":\"#2a3f5f\",\"gridcolor\":\"white\",\"linecolor\":\"white\",\"minorgridcolor\":\"white\",\"startlinecolor\":\"#2a3f5f\"},\"type\":\"carpet\"}],\"table\":[{\"cells\":{\"fill\":{\"color\":\"#EBF0F8\"},\"line\":{\"color\":\"white\"}},\"header\":{\"fill\":{\"color\":\"#C8D4E3\"},\"line\":{\"color\":\"white\"}},\"type\":\"table\"}],\"barpolar\":[{\"marker\":{\"line\":{\"color\":\"#E5ECF6\",\"width\":0.5},\"pattern\":{\"fillmode\":\"overlay\",\"size\":10,\"solidity\":0.2}},\"type\":\"barpolar\"}],\"pie\":[{\"automargin\":true,\"type\":\"pie\"}]},\"layout\":{\"autotypenumbers\":\"strict\",\"colorway\":[\"#636efa\",\"#EF553B\",\"#00cc96\",\"#ab63fa\",\"#FFA15A\",\"#19d3f3\",\"#FF6692\",\"#B6E880\",\"#FF97FF\",\"#FECB52\"],\"font\":{\"color\":\"#2a3f5f\"},\"hovermode\":\"closest\",\"hoverlabel\":{\"align\":\"left\"},\"paper_bgcolor\":\"white\",\"plot_bgcolor\":\"#E5ECF6\",\"polar\":{\"bgcolor\":\"#E5ECF6\",\"angularaxis\":{\"gridcolor\":\"white\",\"linecolor\":\"white\",\"ticks\":\"\"},\"radialaxis\":{\"gridcolor\":\"white\",\"linecolor\":\"white\",\"ticks\":\"\"}},\"ternary\":{\"bgcolor\":\"#E5ECF6\",\"aaxis\":{\"gridcolor\":\"white\",\"linecolor\":\"white\",\"ticks\":\"\"},\"baxis\":{\"gridcolor\":\"white\",\"linecolor\":\"white\",\"ticks\":\"\"},\"caxis\":{\"gridcolor\":\"white\",\"linecolor\":\"white\",\"ticks\":\"\"}},\"coloraxis\":{\"colorbar\":{\"outlinewidth\":0,\"ticks\":\"\"}},\"colorscale\":{\"sequential\":[[0.0,\"#0d0887\"],[0.1111111111111111,\"#46039f\"],[0.2222222222222222,\"#7201a8\"],[0.3333333333333333,\"#9c179e\"],[0.4444444444444444,\"#bd3786\"],[0.5555555555555556,\"#d8576b\"],[0.6666666666666666,\"#ed7953\"],[0.7777777777777778,\"#fb9f3a\"],[0.8888888888888888,\"#fdca26\"],[1.0,\"#f0f921\"]],\"sequentialminus\":[[0.0,\"#0d0887\"],[0.1111111111111111,\"#46039f\"],[0.2222222222222222,\"#7201a8\"],[0.3333333333333333,\"#9c179e\"],[0.4444444444444444,\"#bd3786\"],[0.5555555555555556,\"#d8576b\"],[0.6666666666666666,\"#ed7953\"],[0.7777777777777778,\"#fb9f3a\"],[0.8888888888888888,\"#fdca26\"],[1.0,\"#f0f921\"]],\"diverging\":[[0,\"#8e0152\"],[0.1,\"#c51b7d\"],[0.2,\"#de77ae\"],[0.3,\"#f1b6da\"],[0.4,\"#fde0ef\"],[0.5,\"#f7f7f7\"],[0.6,\"#e6f5d0\"],[0.7,\"#b8e186\"],[0.8,\"#7fbc41\"],[0.9,\"#4d9221\"],[1,\"#276419\"]]},\"xaxis\":{\"gridcolor\":\"white\",\"linecolor\":\"white\",\"ticks\":\"\",\"title\":{\"standoff\":15},\"zerolinecolor\":\"white\",\"automargin\":true,\"zerolinewidth\":2},\"yaxis\":{\"gridcolor\":\"white\",\"linecolor\":\"white\",\"ticks\":\"\",\"title\":{\"standoff\":15},\"zerolinecolor\":\"white\",\"automargin\":true,\"zerolinewidth\":2},\"scene\":{\"xaxis\":{\"backgroundcolor\":\"#E5ECF6\",\"gridcolor\":\"white\",\"linecolor\":\"white\",\"showbackground\":true,\"ticks\":\"\",\"zerolinecolor\":\"white\",\"gridwidth\":2},\"yaxis\":{\"backgroundcolor\":\"#E5ECF6\",\"gridcolor\":\"white\",\"linecolor\":\"white\",\"showbackground\":true,\"ticks\":\"\",\"zerolinecolor\":\"white\",\"gridwidth\":2},\"zaxis\":{\"backgroundcolor\":\"#E5ECF6\",\"gridcolor\":\"white\",\"linecolor\":\"white\",\"showbackground\":true,\"ticks\":\"\",\"zerolinecolor\":\"white\",\"gridwidth\":2}},\"shapedefaults\":{\"line\":{\"color\":\"#2a3f5f\"}},\"annotationdefaults\":{\"arrowcolor\":\"#2a3f5f\",\"arrowhead\":0,\"arrowwidth\":1},\"geo\":{\"bgcolor\":\"white\",\"landcolor\":\"#E5ECF6\",\"subunitcolor\":\"white\",\"showland\":true,\"showlakes\":true,\"lakecolor\":\"white\"},\"title\":{\"x\":0.05},\"mapbox\":{\"style\":\"light\"}}},\"xaxis\":{\"anchor\":\"y\",\"domain\":[0.0,1.0],\"title\":{\"text\":\"x\"}},\"yaxis\":{\"anchor\":\"x\",\"domain\":[0.0,1.0],\"title\":{\"text\":\"y\"}},\"legend\":{\"tracegroupgap\":0},\"margin\":{\"t\":60},\"barmode\":\"relative\",\"height\":400,\"width\":3000},                        {\"responsive\": true}                    ).then(function(){\n",
       "                            \n",
       "var gd = document.getElementById('f46a48e0-aba2-4cee-be84-18fd62e667c7');\n",
       "var x = new MutationObserver(function (mutations, observer) {{\n",
       "        var display = window.getComputedStyle(gd).display;\n",
       "        if (!display || display === 'none') {{\n",
       "            console.log([gd, 'removed!']);\n",
       "            Plotly.purge(gd);\n",
       "            observer.disconnect();\n",
       "        }}\n",
       "}});\n",
       "\n",
       "// Listen for the removal of the full notebook cells\n",
       "var notebookContainer = gd.closest('#notebook-container');\n",
       "if (notebookContainer) {{\n",
       "    x.observe(notebookContainer, {childList: true});\n",
       "}}\n",
       "\n",
       "// Listen for the clearing of the current output cell\n",
       "var outputEl = gd.closest('.output');\n",
       "if (outputEl) {{\n",
       "    x.observe(outputEl, {childList: true});\n",
       "}}\n",
       "\n",
       "                        })                };                });            </script>        </div>"
      ]
     },
     "metadata": {},
     "output_type": "display_data"
    }
   ],
   "source": [
    "import plotly.express as px \n",
    "\n",
    "countries = df_clean.country.unique()\n",
    "total_vacc = df_clean.groupby(['country'])['total_vaccinations'].sum()\n",
    "\n",
    "#print(total_vacc[3])\n",
    "fig = px.bar(x= countries, y = total_vacc, width=3000, height=400)\n",
    "fig.show()\n",
    "\n",
    "    "
   ]
  },
  {
   "cell_type": "markdown",
   "id": "ec0aa999",
   "metadata": {
    "papermill": {
     "duration": 0.01044,
     "end_time": "2023-03-13T18:00:02.429476",
     "exception": false,
     "start_time": "2023-03-13T18:00:02.419036",
     "status": "completed"
    },
    "tags": []
   },
   "source": [
    "Now lets try to analyze the vaccinations for all the countries by visualization so that we can determine the countries having lowest and highest number of vaccinations. "
   ]
  },
  {
   "cell_type": "markdown",
   "id": "ca10a898",
   "metadata": {
    "papermill": {
     "duration": 0.008673,
     "end_time": "2023-03-13T18:00:02.448075",
     "exception": false,
     "start_time": "2023-03-13T18:00:02.439402",
     "status": "completed"
    },
    "tags": []
   },
   "source": [
    "As can one see, the maximum number of vaccinations done are in the U.S.A. Now ,let's try to pick out top ten countries with maximum number of covid vacciantions done. "
   ]
  },
  {
   "cell_type": "code",
   "execution_count": 15,
   "id": "07de3236",
   "metadata": {
    "execution": {
     "iopub.execute_input": "2023-03-13T18:00:02.468292Z",
     "iopub.status.busy": "2023-03-13T18:00:02.467854Z",
     "iopub.status.idle": "2023-03-13T18:00:02.487330Z",
     "shell.execute_reply": "2023-03-13T18:00:02.485711Z"
    },
    "papermill": {
     "duration": 0.034159,
     "end_time": "2023-03-13T18:00:02.491308",
     "exception": false,
     "start_time": "2023-03-13T18:00:02.457149",
     "status": "completed"
    },
    "tags": []
   },
   "outputs": [
    {
     "data": {
      "text/html": [
       "<div>\n",
       "<style scoped>\n",
       "    .dataframe tbody tr th:only-of-type {\n",
       "        vertical-align: middle;\n",
       "    }\n",
       "\n",
       "    .dataframe tbody tr th {\n",
       "        vertical-align: top;\n",
       "    }\n",
       "\n",
       "    .dataframe thead th {\n",
       "        text-align: right;\n",
       "    }\n",
       "</style>\n",
       "<table border=\"1\" class=\"dataframe\">\n",
       "  <thead>\n",
       "    <tr style=\"text-align: right;\">\n",
       "      <th></th>\n",
       "      <th>Country_name</th>\n",
       "      <th>Vaccination</th>\n",
       "    </tr>\n",
       "  </thead>\n",
       "  <tbody>\n",
       "    <tr>\n",
       "      <th>139</th>\n",
       "      <td>United States</td>\n",
       "      <td>3.261102e+10</td>\n",
       "    </tr>\n",
       "    <tr>\n",
       "      <th>58</th>\n",
       "      <td>India</td>\n",
       "      <td>2.159900e+10</td>\n",
       "    </tr>\n",
       "    <tr>\n",
       "      <th>138</th>\n",
       "      <td>United Kingdom</td>\n",
       "      <td>7.839957e+09</td>\n",
       "    </tr>\n",
       "    <tr>\n",
       "      <th>37</th>\n",
       "      <td>England</td>\n",
       "      <td>6.476860e+09</td>\n",
       "    </tr>\n",
       "    <tr>\n",
       "      <th>46</th>\n",
       "      <td>Germany</td>\n",
       "      <td>5.473729e+09</td>\n",
       "    </tr>\n",
       "    <tr>\n",
       "      <th>16</th>\n",
       "      <td>Brazil</td>\n",
       "      <td>5.105921e+09</td>\n",
       "    </tr>\n",
       "    <tr>\n",
       "      <th>42</th>\n",
       "      <td>France</td>\n",
       "      <td>4.047035e+09</td>\n",
       "    </tr>\n",
       "    <tr>\n",
       "      <th>134</th>\n",
       "      <td>Turkey</td>\n",
       "      <td>3.839556e+09</td>\n",
       "    </tr>\n",
       "    <tr>\n",
       "      <th>64</th>\n",
       "      <td>Italy</td>\n",
       "      <td>3.812961e+09</td>\n",
       "    </tr>\n",
       "    <tr>\n",
       "      <th>106</th>\n",
       "      <td>Russia</td>\n",
       "      <td>2.981897e+09</td>\n",
       "    </tr>\n",
       "  </tbody>\n",
       "</table>\n",
       "</div>"
      ],
      "text/plain": [
       "       Country_name   Vaccination\n",
       "139   United States  3.261102e+10\n",
       "58            India  2.159900e+10\n",
       "138  United Kingdom  7.839957e+09\n",
       "37          England  6.476860e+09\n",
       "46          Germany  5.473729e+09\n",
       "16           Brazil  5.105921e+09\n",
       "42           France  4.047035e+09\n",
       "134          Turkey  3.839556e+09\n",
       "64            Italy  3.812961e+09\n",
       "106          Russia  2.981897e+09"
      ]
     },
     "execution_count": 15,
     "metadata": {},
     "output_type": "execute_result"
    }
   ],
   "source": [
    "zipped = list(zip(countries, total_vacc))\n",
    "df_vacc_total = pd.DataFrame(zipped, columns=['Country_name', 'Vaccination'])\n",
    "sorted_df = df_vacc_total.sort_values(by = ['Vaccination'], ascending = False)\n",
    "sorted_df.head(10)\n",
    "\n"
   ]
  }
 ],
 "metadata": {
  "kernelspec": {
   "display_name": "Python 3",
   "language": "python",
   "name": "python3"
  },
  "language_info": {
   "codemirror_mode": {
    "name": "ipython",
    "version": 3
   },
   "file_extension": ".py",
   "mimetype": "text/x-python",
   "name": "python",
   "nbconvert_exporter": "python",
   "pygments_lexer": "ipython3",
   "version": "3.7.12"
  },
  "papermill": {
   "default_parameters": {},
   "duration": 17.986731,
   "end_time": "2023-03-13T18:00:03.427436",
   "environment_variables": {},
   "exception": null,
   "input_path": "__notebook__.ipynb",
   "output_path": "__notebook__.ipynb",
   "parameters": {},
   "start_time": "2023-03-13T17:59:45.440705",
   "version": "2.3.4"
  }
 },
 "nbformat": 4,
 "nbformat_minor": 5
}
